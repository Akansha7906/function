{
  "nbformat": 4,
  "nbformat_minor": 0,
  "metadata": {
    "colab": {
      "provenance": []
    },
    "kernelspec": {
      "name": "python3",
      "display_name": "Python 3"
    },
    "language_info": {
      "name": "python"
    }
  },
  "cells": [
    {
      "cell_type": "code",
      "execution_count": null,
      "metadata": {
        "id": "pCocP0y1OYiW"
      },
      "outputs": [],
      "source": [
        "Q1 1. What is the difference between a function and a method in Python?"
      ]
    },
    {
      "cell_type": "markdown",
      "source": [
        "  A function is a block of reusable code that performs a specific task. It is defined independently using def and can be called directly by its name. A method is a function that belongs to a class or object. It is called using the object and can access or modify the object’s data. In short, a function is standalone, while a method is tied to an object"
      ],
      "metadata": {
        "id": "d0kxfGYqPlv9"
      }
    },
    {
      "cell_type": "markdown",
      "source": [
        "Q2 Explain the concept of function arguments and parameters in Python?\n"
      ],
      "metadata": {
        "id": "H5y5ay7OPywc"
      }
    },
    {
      "cell_type": "markdown",
      "source": [
        "In Python, parameters are variables listed in a function’s definition that act as placeholders for the values the function will use. Arguments are the actual values passed to the function when it is called. Python supports different types of arguments, such as positional arguments, keyword arguments, default arguments, and variable-length arguments. Using arguments and parameters allows functions to be flexible and reusable with different inputs."
      ],
      "metadata": {
        "id": "Avd1LIywP5rc"
      }
    },
    {
      "cell_type": "markdown",
      "source": [
        "Q3  What are the different ways to define and call a function in Python?\n",
        "\n"
      ],
      "metadata": {
        "id": "1YQQQug6Q0pU"
      }
    },
    {
      "cell_type": "markdown",
      "source": [
        "Different Ways to Define and Call a Function in Python:\n",
        "1.Defining a Function:\n",
        "\n",
        "Using def keyword:\n",
        "\n",
        "2.def greet():\n",
        "    print(\"Hello!\")\n",
        "\n",
        "\n",
        "3.Using lambda (anonymous function for simple expressions):\n",
        "\n",
        "add = lambda x, y: x + y\n",
        "\n",
        "\n",
        "4.Calling a Function:\n",
        "\n",
        "Call by function name with parentheses:\n",
        "\n",
        "greet()\n",
        "\n",
        "\n",
        "5.Call with arguments if the function has parameters:\n",
        "\n",
        "print(add(5, 3))"
      ],
      "metadata": {
        "id": "8x7Kxak7QZbG"
      }
    },
    {
      "cell_type": "markdown",
      "source": [
        "Q4  What is the purpose of the `return` statement in a Python function?\n",
        "\n"
      ],
      "metadata": {
        "id": "TwTm5FfKQ6om"
      }
    },
    {
      "cell_type": "markdown",
      "source": [
        "The return statement is used in a Python function to send a value back to the part of the program that called the function. It allows the function to produce an output that can be stored in a variable, printed, or used in further calculations. Without return, a function returns None by default. Using return makes functions more flexible and reusable."
      ],
      "metadata": {
        "id": "EYei5l6aRGUl"
      }
    },
    {
      "cell_type": "markdown",
      "source": [
        "Q5  What are iterators in Python and how do they differ from iterables?"
      ],
      "metadata": {
        "id": "nbKV7kLlRId-"
      }
    },
    {
      "cell_type": "markdown",
      "source": [
        "An iterable is any Python object capable of returning its elements one at a time, such as lists, tuples, or strings. You can loop over iterables using a for loop. An iterator is an object that represents a stream of data and provides a __next__() method to access the next element. All iterators are iterables, but not all iterables are iterators. Iterators keep track of their current position, whereas iterables do not"
      ],
      "metadata": {
        "id": "tU8jpjxDRQ-d"
      }
    },
    {
      "cell_type": "markdown",
      "source": [
        "Q6  Explain the concept of generators in Python and how they are defined?"
      ],
      "metadata": {
        "id": "xV_1K6BrRZCu"
      }
    },
    {
      "cell_type": "markdown",
      "source": [
        "Generators are a special type of iterator in Python that allow you to generate values on the fly, one at a time, instead of storing them all in memory. They are memory-efficient and useful for large datasets. Generators are defined using functions with the yield statement instead of return. Each time yield is called, the generator produces a value and pauses its state, resuming from the same point when called next."
      ],
      "metadata": {
        "id": "Dr8FBZQmRf4H"
      }
    },
    {
      "cell_type": "markdown",
      "source": [
        "Q7  What are the advantages of using generators over regular functions?"
      ],
      "metadata": {
        "id": "3vvyfW8URp81"
      }
    },
    {
      "cell_type": "markdown",
      "source": [
        "**Memory** Efficiency: Generators produce items one at a time and do not store the entire sequence in memory, making them ideal for large datasets.\n",
        "\n",
        "**Lazy** **Evaluation**: Values are generated only when needed, which can improve performance.\n",
        "\n",
        "**Represent** **Infinite** **Sequences**: Generators can represent infinite streams of data, which is not possible with regular functions returning lists.\n",
        "\n",
        "**Simpler**  **Code**: Using yield often simplifies code compared to creating an iterator class with __iter__() and __next__()."
      ],
      "metadata": {
        "id": "1UIzoKxqSAGc"
      }
    },
    {
      "cell_type": "markdown",
      "source": [
        "Q8  What is a lambda function in Python and when is it typically used?"
      ],
      "metadata": {
        "id": "9W8a83q1SlJV"
      }
    },
    {
      "cell_type": "markdown",
      "source": [
        "A lambda function is a small, anonymous function defined using the lambda keyword. It can take any number of arguments but contains only a single expression, which is evaluated and returned automatically. Lambda functions are typically used for short, simple operations, often as arguments to functions like map(), filter(), and sorted(). They are useful when a full function definition using def is unnecessary"
      ],
      "metadata": {
        "id": "GAJYnffZS1ul"
      }
    },
    {
      "cell_type": "markdown",
      "source": [
        "Q9  Explain the purpose and usage of the `map()` function in Python?"
      ],
      "metadata": {
        "id": "uKeT_HnpS3d9"
      }
    },
    {
      "cell_type": "markdown",
      "source": [
        "The map() function in Python is used to apply a given function to each item of an iterable (like a list, tuple, etc.) and return a new map object with the results. It is useful for transforming data without using explicit loops. The result can be converted to a list, tuple, or set using the respective constructors."
      ],
      "metadata": {
        "id": "wmZcUt63TKYU"
      }
    },
    {
      "cell_type": "markdown",
      "source": [
        "Q10  What is the difference between `map()`, `reduce()`, and `filter()` functions in Python?"
      ],
      "metadata": {
        "id": "X92Y9M8uVGr8"
      }
    },
    {
      "cell_type": "markdown",
      "source": [
        "**map**(): Applies a given function to all items in an iterable and returns a new iterable with the results.\n",
        "\n",
        "Example: list(map(lambda x: x*2, [1,2,3])) # Output: [2,4,6]\n",
        "\n",
        "**reduce**(): Applies a function cumulatively to the items of an iterable to produce a single value. (Requires functools.reduce)\n",
        "\n",
        "Example:\n",
        "\n",
        " from  functools import reduce\n",
        "reduce(lambda x, y: x+y, [1,2,3,4])  # Output: 10\n",
        "\n",
        "\n",
        "**filter**(): Filters elements from an iterable for which the given function returns True.\n",
        "\n",
        "Example: list(filter(lambda x: x%2==0, [1,2,3,4])) # Output: [2,4]"
      ],
      "metadata": {
        "id": "IYmCARh9Px11"
      }
    },
    {
      "cell_type": "markdown",
      "source": [
        "Q11  Using pen & Paper write the internal mechanism for sum operation using  reduce function on this given\n",
        "list:[47,11,42,13];?"
      ],
      "metadata": {
        "id": "cRZ3HCSVVEFE"
      }
    },
    {
      "cell_type": "markdown",
      "source": [
        "**start** with the first two elements:\n",
        "\n",
        "47 + 11 = 58\n",
        "\n",
        "\n",
        "**Take** the result and the next element:\n",
        "\n",
        "58 + 42 = 100\n",
        "\n",
        "\n",
        "**Take** the result and the next element:\n",
        "\n",
        "100 + 13 = 113\n",
        "\n",
        "\n",
        "**Final** ***Result***: 113"
      ],
      "metadata": {
        "id": "wkSI_XGPVqqL"
      }
    },
    {
      "cell_type": "markdown",
      "source": [
        "**PRACTICAL** **QUESTIONS**"
      ],
      "metadata": {
        "id": "nZAClsa-V3-c"
      }
    },
    {
      "cell_type": "markdown",
      "source": [
        "Q1 Write a Python function that takes a list of numbers as input and returns the sum of all even numbers in\n",
        "the list?"
      ],
      "metadata": {
        "id": "DGYZ5sA7WF97"
      }
    },
    {
      "cell_type": "markdown",
      "source": [
        "def sum_even_numbers(numbers):\n",
        "    return sum(num for num in numbers if num % 2 == 0)\n",
        "\n",
        "\n",
        "my_list = [1, 2, 3, 4, 5, 6]\n",
        "print(sum_even_numbers(my_list))  # Output: 12"
      ],
      "metadata": {
        "id": "LAaAyMNJWQYD"
      }
    },
    {
      "cell_type": "markdown",
      "source": [
        "Q2 Create a Python function that accepts a string and returns the reverse of that string?"
      ],
      "metadata": {
        "id": "bX_oxaBOWq8b"
      }
    },
    {
      "cell_type": "markdown",
      "source": [
        "def reverse_string(s):\n",
        "    return s[::-1]\n",
        "\n",
        "\n",
        "text = \"Python\"\n",
        "print(reverse_string(text))  # Output: nohtyP"
      ],
      "metadata": {
        "id": "VK19LHevW0SU"
      }
    },
    {
      "cell_type": "markdown",
      "source": [
        "Q3  Implement a Python function that takes a list of integers and returns a new list containing the squares of\n",
        "each number?"
      ],
      "metadata": {
        "id": "w1Qh3REmW9kT"
      }
    },
    {
      "cell_type": "markdown",
      "source": [
        "\n",
        "def square_list(numbers):\n",
        "    return [num**2 for num in numbers]\n",
        "\n",
        "\n",
        "my_list = [1, 2, 3, 4]\n",
        "print(square_list(my_list))  # Output: [1, 4, 9, 16]"
      ],
      "metadata": {
        "id": "lvfighUyXbNz"
      }
    },
    {
      "cell_type": "markdown",
      "source": [
        "Q4  Write a Python function that checks if a given number is prime or not from 1 to 200?"
      ],
      "metadata": {
        "id": "hE6O3UtpXiML"
      }
    },
    {
      "cell_type": "markdown",
      "source": [
        "\n",
        "def is_prime(n):\n",
        "    return n > 1 and all(n % i != 0 for i in range(2, int(n**0.5)+1))\n",
        "\n",
        "\n",
        "primes = [n for n in range(1, 201) if is_prime(n)]\n",
        "print(primes)"
      ],
      "metadata": {
        "id": "Gus-k5MqYQR7"
      }
    },
    {
      "cell_type": "markdown",
      "source": [
        "Q5  Create an iterator class in Python that generates the Fibonacci sequence up to a specified number of\n",
        "terms?"
      ],
      "metadata": {
        "id": "HH3nLkSOYU5r"
      }
    },
    {
      "cell_type": "markdown",
      "source": [
        "def fibonacci(n):\n",
        "    a, b = 0, 1\n",
        "    for _ in range(n):\n",
        "        yield a\n",
        "        a, b = b, a + b\n",
        "\n",
        "\n",
        "for num in fibonacci(10):\n",
        "    print(num, end=\" \")"
      ],
      "metadata": {
        "id": "QKBOvKFBYsXr"
      }
    },
    {
      "cell_type": "markdown",
      "source": [
        "Q6  Write a generator function in Python that yields the powers of 2 up to a given exponent?"
      ],
      "metadata": {
        "id": "xXQKcWMkZAsl"
      }
    },
    {
      "cell_type": "markdown",
      "source": [
        "def powers_of_2(n):\n",
        "    for i in range(n + 1):\n",
        "        yield 2 ** i\n",
        "\n",
        "\n",
        "for num in powers_of_2(5):\n",
        "    print(num, end=\" \")"
      ],
      "metadata": {
        "id": "Sb_ESGYrZR6j"
      }
    },
    {
      "cell_type": "markdown",
      "source": [
        "Q7  Implement a generator function that reads a file line by line and yields each line as a string?"
      ],
      "metadata": {
        "id": "Xbt-cVO-ZVht"
      }
    },
    {
      "cell_type": "markdown",
      "source": [
        "def read_file_line_by_line(filename):\n",
        "    with open(filename, 'r') as file:\n",
        "        for line in file:\n",
        "            yield line.strip()  # Remove newline characters\n",
        "\n",
        "\n",
        "for line in read_file_line_by_line('sample.txt'):\n",
        "    print(line)"
      ],
      "metadata": {
        "id": "_9ElWNHWZgvr"
      }
    },
    {
      "cell_type": "markdown",
      "source": [
        "Q8  Use a lambda function in Python to sort a list of tuples based on the second element of each tuple?"
      ],
      "metadata": {
        "id": "KLZIHINTZxt7"
      }
    },
    {
      "cell_type": "markdown",
      "source": [
        "\n",
        "data = [(1, 5), (2, 2), (3, 8), (4, 1)]\n",
        "\n",
        "\n",
        "sorted_data = sorted(data, key=lambda x: x[1])\n",
        "\n",
        "print(sorted_data)"
      ],
      "metadata": {
        "id": "ZBYhvgFAaBIz"
      }
    },
    {
      "cell_type": "markdown",
      "source": [
        "Q9  Write a Python program that uses `map()` to convert a list of temperatures from Celsius to Fahrenheit?"
      ],
      "metadata": {
        "id": "oaq0rP78aIiz"
      }
    },
    {
      "cell_type": "markdown",
      "source": [
        "celsius_temps = [0, 20, 37, 100]\n",
        "fahrenheit_temps = list(map(lambda c: (c * 9/5) + 32, celsius_temps))\n",
        "print(fahrenheit_temps"
      ],
      "metadata": {
        "id": "L0nv-BhEazr6"
      }
    },
    {
      "cell_type": "markdown",
      "source": [
        "Q10  Create a Python program that uses `filter()` to remove all the vowels from a given string.?"
      ],
      "metadata": {
        "id": "-rPB-uqFbhiE"
      }
    },
    {
      "cell_type": "markdown",
      "source": [
        "input_str = \"Hello, World!\"\n",
        "result = ''.join(filter(lambda c: c.lower() not in 'aeiou', input_str))\n",
        "print(result"
      ],
      "metadata": {
        "id": "_NcnrbAUbr0D"
      }
    },
    {
      "cell_type": "markdown",
      "source": [],
      "metadata": {
        "id": "ZhuI2GjJb-oS"
      }
    },
    {
      "cell_type": "code",
      "source": [],
      "metadata": {
        "id": "GZWG6Z-KXaV8"
      },
      "execution_count": null,
      "outputs": []
    },
    {
      "cell_type": "code",
      "source": [],
      "metadata": {
        "id": "KZwKSq0aXILd"
      },
      "execution_count": null,
      "outputs": []
    },
    {
      "cell_type": "code",
      "source": [],
      "metadata": {
        "id": "POJ-be42PkwA"
      },
      "execution_count": null,
      "outputs": []
    },
    {
      "cell_type": "code",
      "source": [],
      "metadata": {
        "id": "YeYkF4BtPks2"
      },
      "execution_count": null,
      "outputs": []
    },
    {
      "cell_type": "code",
      "source": [],
      "metadata": {
        "id": "l9VT6DeMPkqJ"
      },
      "execution_count": null,
      "outputs": []
    },
    {
      "cell_type": "code",
      "source": [],
      "metadata": {
        "id": "EBbM3CphPknI"
      },
      "execution_count": null,
      "outputs": []
    },
    {
      "cell_type": "code",
      "source": [],
      "metadata": {
        "id": "4F2hlfdePkkK"
      },
      "execution_count": null,
      "outputs": []
    },
    {
      "cell_type": "code",
      "source": [],
      "metadata": {
        "id": "iO1aT0UIPkhL"
      },
      "execution_count": null,
      "outputs": []
    },
    {
      "cell_type": "code",
      "source": [],
      "metadata": {
        "id": "x1sE2DTqPkd9"
      },
      "execution_count": null,
      "outputs": []
    },
    {
      "cell_type": "code",
      "source": [],
      "metadata": {
        "id": "wFdLrJUnPka3"
      },
      "execution_count": null,
      "outputs": []
    },
    {
      "cell_type": "code",
      "source": [],
      "metadata": {
        "id": "rShXrmojPkXy"
      },
      "execution_count": null,
      "outputs": []
    },
    {
      "cell_type": "code",
      "source": [],
      "metadata": {
        "id": "ZTro3hSgPkU1"
      },
      "execution_count": null,
      "outputs": []
    },
    {
      "cell_type": "code",
      "source": [],
      "metadata": {
        "id": "0NM6XYsuPkSL"
      },
      "execution_count": null,
      "outputs": []
    },
    {
      "cell_type": "code",
      "source": [],
      "metadata": {
        "id": "7plwmWtDPkO-"
      },
      "execution_count": null,
      "outputs": []
    },
    {
      "cell_type": "code",
      "source": [],
      "metadata": {
        "id": "LbjsBFOIPkL7"
      },
      "execution_count": null,
      "outputs": []
    },
    {
      "cell_type": "code",
      "source": [],
      "metadata": {
        "id": "-egHQw94PkI_"
      },
      "execution_count": null,
      "outputs": []
    },
    {
      "cell_type": "code",
      "source": [],
      "metadata": {
        "id": "6W4L293IPkGB"
      },
      "execution_count": null,
      "outputs": []
    },
    {
      "cell_type": "code",
      "source": [],
      "metadata": {
        "id": "TZYgWNAUPkDC"
      },
      "execution_count": null,
      "outputs": []
    },
    {
      "cell_type": "code",
      "source": [],
      "metadata": {
        "id": "CHmNEUGJPkAX"
      },
      "execution_count": null,
      "outputs": []
    },
    {
      "cell_type": "code",
      "source": [],
      "metadata": {
        "id": "ItXkGrSsPj9N"
      },
      "execution_count": null,
      "outputs": []
    },
    {
      "cell_type": "code",
      "source": [],
      "metadata": {
        "id": "2VzbPCJ0Pj4G"
      },
      "execution_count": null,
      "outputs": []
    },
    {
      "cell_type": "code",
      "source": [],
      "metadata": {
        "id": "QULfrkn8Pj1p"
      },
      "execution_count": null,
      "outputs": []
    },
    {
      "cell_type": "code",
      "source": [],
      "metadata": {
        "id": "pEDas1OYPjyx"
      },
      "execution_count": null,
      "outputs": []
    },
    {
      "cell_type": "code",
      "source": [],
      "metadata": {
        "id": "LZu4eGuEPjtp"
      },
      "execution_count": null,
      "outputs": []
    },
    {
      "cell_type": "code",
      "source": [],
      "metadata": {
        "id": "kvJXtREOPjrK"
      },
      "execution_count": null,
      "outputs": []
    },
    {
      "cell_type": "code",
      "source": [],
      "metadata": {
        "id": "tXNKYAv2PjoS"
      },
      "execution_count": null,
      "outputs": []
    },
    {
      "cell_type": "code",
      "source": [],
      "metadata": {
        "id": "-8W94MbDPjlx"
      },
      "execution_count": null,
      "outputs": []
    },
    {
      "cell_type": "code",
      "source": [],
      "metadata": {
        "id": "_yFNZXDDPjin"
      },
      "execution_count": null,
      "outputs": []
    },
    {
      "cell_type": "code",
      "source": [],
      "metadata": {
        "id": "NljFoghVPjfd"
      },
      "execution_count": null,
      "outputs": []
    },
    {
      "cell_type": "code",
      "source": [],
      "metadata": {
        "id": "yPH6RXmqPjXd"
      },
      "execution_count": null,
      "outputs": []
    },
    {
      "cell_type": "code",
      "source": [],
      "metadata": {
        "id": "h5KP4dspPi2O"
      },
      "execution_count": null,
      "outputs": []
    },
    {
      "cell_type": "code",
      "source": [],
      "metadata": {
        "id": "huUWfi7ZPiPZ"
      },
      "execution_count": null,
      "outputs": []
    }
  ]
}